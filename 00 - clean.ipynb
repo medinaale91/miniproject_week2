{
 "cells": [
  {
   "cell_type": "code",
   "execution_count": 1,
   "metadata": {},
   "outputs": [],
   "source": [
    "#import sys\n",
    "#!{sys.executable} -m pip install pandas\n",
    "\n",
    "import pandas as pd\n",
    "import numpy as np\n",
    "import re"
   ]
  },
  {
   "cell_type": "code",
   "execution_count": 2,
   "metadata": {},
   "outputs": [
    {
     "data": {
      "text/html": [
       "<div>\n",
       "<style scoped>\n",
       "    .dataframe tbody tr th:only-of-type {\n",
       "        vertical-align: middle;\n",
       "    }\n",
       "\n",
       "    .dataframe tbody tr th {\n",
       "        vertical-align: top;\n",
       "    }\n",
       "\n",
       "    .dataframe thead th {\n",
       "        text-align: right;\n",
       "    }\n",
       "</style>\n",
       "<table border=\"1\" class=\"dataframe\">\n",
       "  <thead>\n",
       "    <tr style=\"text-align: right;\">\n",
       "      <th></th>\n",
       "      <th>Case Number</th>\n",
       "      <th>Date</th>\n",
       "      <th>Year</th>\n",
       "      <th>Type</th>\n",
       "      <th>Country</th>\n",
       "      <th>Area</th>\n",
       "      <th>Location</th>\n",
       "      <th>Activity</th>\n",
       "      <th>Name</th>\n",
       "      <th>Sex</th>\n",
       "      <th>...</th>\n",
       "      <th>Species</th>\n",
       "      <th>Investigator or Source</th>\n",
       "      <th>pdf</th>\n",
       "      <th>href formula</th>\n",
       "      <th>href</th>\n",
       "      <th>Case Number.1</th>\n",
       "      <th>Case Number.2</th>\n",
       "      <th>original order</th>\n",
       "      <th>Unnamed: 22</th>\n",
       "      <th>Unnamed: 23</th>\n",
       "    </tr>\n",
       "  </thead>\n",
       "  <tbody>\n",
       "    <tr>\n",
       "      <th>0</th>\n",
       "      <td>2018.06.25</td>\n",
       "      <td>25-Jun-2018</td>\n",
       "      <td>2018.0</td>\n",
       "      <td>Boating</td>\n",
       "      <td>USA</td>\n",
       "      <td>California</td>\n",
       "      <td>Oceanside, San Diego County</td>\n",
       "      <td>Paddling</td>\n",
       "      <td>Julie Wolfe</td>\n",
       "      <td>F</td>\n",
       "      <td>...</td>\n",
       "      <td>White shark</td>\n",
       "      <td>R. Collier, GSAF</td>\n",
       "      <td>2018.06.25-Wolfe.pdf</td>\n",
       "      <td>http://sharkattackfile.net/spreadsheets/pdf_di...</td>\n",
       "      <td>http://sharkattackfile.net/spreadsheets/pdf_di...</td>\n",
       "      <td>2018.06.25</td>\n",
       "      <td>2018.06.25</td>\n",
       "      <td>6303.0</td>\n",
       "      <td>NaN</td>\n",
       "      <td>NaN</td>\n",
       "    </tr>\n",
       "    <tr>\n",
       "      <th>1</th>\n",
       "      <td>2018.06.18</td>\n",
       "      <td>18-Jun-2018</td>\n",
       "      <td>2018.0</td>\n",
       "      <td>Unprovoked</td>\n",
       "      <td>USA</td>\n",
       "      <td>Georgia</td>\n",
       "      <td>St. Simon Island, Glynn County</td>\n",
       "      <td>Standing</td>\n",
       "      <td>Adyson McNeely</td>\n",
       "      <td>F</td>\n",
       "      <td>...</td>\n",
       "      <td>NaN</td>\n",
       "      <td>K.McMurray, TrackingSharks.com</td>\n",
       "      <td>2018.06.18-McNeely.pdf</td>\n",
       "      <td>http://sharkattackfile.net/spreadsheets/pdf_di...</td>\n",
       "      <td>http://sharkattackfile.net/spreadsheets/pdf_di...</td>\n",
       "      <td>2018.06.18</td>\n",
       "      <td>2018.06.18</td>\n",
       "      <td>6302.0</td>\n",
       "      <td>NaN</td>\n",
       "      <td>NaN</td>\n",
       "    </tr>\n",
       "    <tr>\n",
       "      <th>2</th>\n",
       "      <td>2018.06.09</td>\n",
       "      <td>09-Jun-2018</td>\n",
       "      <td>2018.0</td>\n",
       "      <td>Invalid</td>\n",
       "      <td>USA</td>\n",
       "      <td>Hawaii</td>\n",
       "      <td>Habush, Oahu</td>\n",
       "      <td>Surfing</td>\n",
       "      <td>John Denges</td>\n",
       "      <td>M</td>\n",
       "      <td>...</td>\n",
       "      <td>NaN</td>\n",
       "      <td>K.McMurray, TrackingSharks.com</td>\n",
       "      <td>2018.06.09-Denges.pdf</td>\n",
       "      <td>http://sharkattackfile.net/spreadsheets/pdf_di...</td>\n",
       "      <td>http://sharkattackfile.net/spreadsheets/pdf_di...</td>\n",
       "      <td>2018.06.09</td>\n",
       "      <td>2018.06.09</td>\n",
       "      <td>6301.0</td>\n",
       "      <td>NaN</td>\n",
       "      <td>NaN</td>\n",
       "    </tr>\n",
       "    <tr>\n",
       "      <th>3</th>\n",
       "      <td>2018.06.08</td>\n",
       "      <td>08-Jun-2018</td>\n",
       "      <td>2018.0</td>\n",
       "      <td>Unprovoked</td>\n",
       "      <td>AUSTRALIA</td>\n",
       "      <td>New South Wales</td>\n",
       "      <td>Arrawarra Headland</td>\n",
       "      <td>Surfing</td>\n",
       "      <td>male</td>\n",
       "      <td>M</td>\n",
       "      <td>...</td>\n",
       "      <td>2 m shark</td>\n",
       "      <td>B. Myatt, GSAF</td>\n",
       "      <td>2018.06.08-Arrawarra.pdf</td>\n",
       "      <td>http://sharkattackfile.net/spreadsheets/pdf_di...</td>\n",
       "      <td>http://sharkattackfile.net/spreadsheets/pdf_di...</td>\n",
       "      <td>2018.06.08</td>\n",
       "      <td>2018.06.08</td>\n",
       "      <td>6300.0</td>\n",
       "      <td>NaN</td>\n",
       "      <td>NaN</td>\n",
       "    </tr>\n",
       "    <tr>\n",
       "      <th>4</th>\n",
       "      <td>2018.06.04</td>\n",
       "      <td>04-Jun-2018</td>\n",
       "      <td>2018.0</td>\n",
       "      <td>Provoked</td>\n",
       "      <td>MEXICO</td>\n",
       "      <td>Colima</td>\n",
       "      <td>La Ticla</td>\n",
       "      <td>Free diving</td>\n",
       "      <td>Gustavo Ramos</td>\n",
       "      <td>M</td>\n",
       "      <td>...</td>\n",
       "      <td>Tiger shark, 3m</td>\n",
       "      <td>A .Kipper</td>\n",
       "      <td>2018.06.04-Ramos.pdf</td>\n",
       "      <td>http://sharkattackfile.net/spreadsheets/pdf_di...</td>\n",
       "      <td>http://sharkattackfile.net/spreadsheets/pdf_di...</td>\n",
       "      <td>2018.06.04</td>\n",
       "      <td>2018.06.04</td>\n",
       "      <td>6299.0</td>\n",
       "      <td>NaN</td>\n",
       "      <td>NaN</td>\n",
       "    </tr>\n",
       "  </tbody>\n",
       "</table>\n",
       "<p>5 rows × 24 columns</p>\n",
       "</div>"
      ],
      "text/plain": [
       "  Case Number         Date    Year        Type    Country             Area  \\\n",
       "0  2018.06.25  25-Jun-2018  2018.0     Boating        USA       California   \n",
       "1  2018.06.18  18-Jun-2018  2018.0  Unprovoked        USA          Georgia   \n",
       "2  2018.06.09  09-Jun-2018  2018.0     Invalid        USA           Hawaii   \n",
       "3  2018.06.08  08-Jun-2018  2018.0  Unprovoked  AUSTRALIA  New South Wales   \n",
       "4  2018.06.04  04-Jun-2018  2018.0    Provoked     MEXICO           Colima   \n",
       "\n",
       "                         Location     Activity             Name Sex   ...  \\\n",
       "0     Oceanside, San Diego County     Paddling      Julie Wolfe    F  ...   \n",
       "1  St. Simon Island, Glynn County     Standing  Adyson McNeely     F  ...   \n",
       "2                    Habush, Oahu      Surfing      John Denges    M  ...   \n",
       "3              Arrawarra Headland      Surfing             male    M  ...   \n",
       "4                        La Ticla  Free diving   Gustavo Ramos     M  ...   \n",
       "\n",
       "          Species           Investigator or Source                       pdf  \\\n",
       "0      White shark                R. Collier, GSAF      2018.06.25-Wolfe.pdf   \n",
       "1              NaN  K.McMurray, TrackingSharks.com    2018.06.18-McNeely.pdf   \n",
       "2              NaN  K.McMurray, TrackingSharks.com     2018.06.09-Denges.pdf   \n",
       "3        2 m shark                  B. Myatt, GSAF  2018.06.08-Arrawarra.pdf   \n",
       "4  Tiger shark, 3m                       A .Kipper      2018.06.04-Ramos.pdf   \n",
       "\n",
       "                                        href formula  \\\n",
       "0  http://sharkattackfile.net/spreadsheets/pdf_di...   \n",
       "1  http://sharkattackfile.net/spreadsheets/pdf_di...   \n",
       "2  http://sharkattackfile.net/spreadsheets/pdf_di...   \n",
       "3  http://sharkattackfile.net/spreadsheets/pdf_di...   \n",
       "4  http://sharkattackfile.net/spreadsheets/pdf_di...   \n",
       "\n",
       "                                                href Case Number.1  \\\n",
       "0  http://sharkattackfile.net/spreadsheets/pdf_di...    2018.06.25   \n",
       "1  http://sharkattackfile.net/spreadsheets/pdf_di...    2018.06.18   \n",
       "2  http://sharkattackfile.net/spreadsheets/pdf_di...    2018.06.09   \n",
       "3  http://sharkattackfile.net/spreadsheets/pdf_di...    2018.06.08   \n",
       "4  http://sharkattackfile.net/spreadsheets/pdf_di...    2018.06.04   \n",
       "\n",
       "  Case Number.2 original order Unnamed: 22 Unnamed: 23  \n",
       "0    2018.06.25         6303.0         NaN         NaN  \n",
       "1    2018.06.18         6302.0         NaN         NaN  \n",
       "2    2018.06.09         6301.0         NaN         NaN  \n",
       "3    2018.06.08         6300.0         NaN         NaN  \n",
       "4    2018.06.04         6299.0         NaN         NaN  \n",
       "\n",
       "[5 rows x 24 columns]"
      ]
     },
     "execution_count": 2,
     "metadata": {},
     "output_type": "execute_result"
    }
   ],
   "source": [
    "df = pd.read_csv(\"attacks.csv\", encoding='ISO-8859-1') #in case we need to open in Visual Studio Code, the path should be absolute. df = pd.read_csv(\"/Users/ale/Proyectos Ironhack/Miniproject_2/attacks.csv\", encoding='ISO-8859-1')\n",
    "df.head()"
   ]
  },
  {
   "cell_type": "code",
   "execution_count": 3,
   "metadata": {},
   "outputs": [
    {
     "name": "stdout",
     "output_type": "stream",
     "text": [
      "(25723, 24)\n"
     ]
    }
   ],
   "source": [
    "print(df.shape)"
   ]
  },
  {
   "cell_type": "code",
   "execution_count": 4,
   "metadata": {},
   "outputs": [
    {
     "name": "stdout",
     "output_type": "stream",
     "text": [
      "<class 'pandas.core.frame.DataFrame'>\n",
      "RangeIndex: 25723 entries, 0 to 25722\n",
      "Data columns (total 24 columns):\n",
      " #   Column                  Non-Null Count  Dtype  \n",
      "---  ------                  --------------  -----  \n",
      " 0   Case Number             8702 non-null   object \n",
      " 1   Date                    6302 non-null   object \n",
      " 2   Year                    6300 non-null   float64\n",
      " 3   Type                    6298 non-null   object \n",
      " 4   Country                 6252 non-null   object \n",
      " 5   Area                    5847 non-null   object \n",
      " 6   Location                5762 non-null   object \n",
      " 7   Activity                5758 non-null   object \n",
      " 8   Name                    6092 non-null   object \n",
      " 9   Sex                     5737 non-null   object \n",
      " 10  Age                     3471 non-null   object \n",
      " 11  Injury                  6274 non-null   object \n",
      " 12  Fatal (Y/N)             5763 non-null   object \n",
      " 13  Time                    2948 non-null   object \n",
      " 14  Species                 3464 non-null   object \n",
      " 15  Investigator or Source  6285 non-null   object \n",
      " 16  pdf                     6302 non-null   object \n",
      " 17  href formula            6301 non-null   object \n",
      " 18  href                    6302 non-null   object \n",
      " 19  Case Number.1           6302 non-null   object \n",
      " 20  Case Number.2           6302 non-null   object \n",
      " 21  original order          6309 non-null   float64\n",
      " 22  Unnamed: 22             1 non-null      object \n",
      " 23  Unnamed: 23             2 non-null      object \n",
      "dtypes: float64(2), object(22)\n",
      "memory usage: 4.7+ MB\n"
     ]
    }
   ],
   "source": [
    "df.info() #to find out what type are the columns and how many cells contain values."
   ]
  },
  {
   "cell_type": "code",
   "execution_count": 5,
   "metadata": {},
   "outputs": [
    {
     "data": {
      "text/plain": [
       "Case Number               17021\n",
       "Date                      19421\n",
       "Year                      19423\n",
       "Type                      19425\n",
       "Country                   19471\n",
       "Area                      19876\n",
       "Location                  19961\n",
       "Activity                  19965\n",
       "Name                      19631\n",
       "Sex                       19986\n",
       "Age                       22252\n",
       "Injury                    19449\n",
       "Fatal (Y/N)               19960\n",
       "Time                      22775\n",
       "Species                   22259\n",
       "Investigator or Source    19438\n",
       "pdf                       19421\n",
       "href formula              19422\n",
       "href                      19421\n",
       "Case Number.1             19421\n",
       "Case Number.2             19421\n",
       "original order            19414\n",
       "Unnamed: 22               25722\n",
       "Unnamed: 23               25721\n",
       "dtype: int64"
      ]
     },
     "execution_count": 5,
     "metadata": {},
     "output_type": "execute_result"
    }
   ],
   "source": [
    "df.isnull().sum() #to find out how many cells are null or empty on each column"
   ]
  },
  {
   "cell_type": "code",
   "execution_count": 6,
   "metadata": {},
   "outputs": [
    {
     "data": {
      "text/plain": [
       "Index(['Case Number', 'Date', 'Year', 'Type', 'Country', 'Area', 'Location',\n",
       "       'Activity', 'Name', 'Sex ', 'Age', 'Injury', 'Fatal (Y/N)', 'Time',\n",
       "       'Species ', 'Investigator or Source', 'pdf', 'href formula', 'href',\n",
       "       'Case Number.1', 'Case Number.2', 'original order', 'Unnamed: 22',\n",
       "       'Unnamed: 23'],\n",
       "      dtype='object')"
      ]
     },
     "execution_count": 6,
     "metadata": {},
     "output_type": "execute_result"
    }
   ],
   "source": [
    "df.columns"
   ]
  },
  {
   "cell_type": "code",
   "execution_count": 7,
   "metadata": {},
   "outputs": [
    {
     "data": {
      "text/plain": [
       "Index(['Case Number', 'Date', 'Year', 'Type', 'Country', 'Area', 'Location',\n",
       "       'Activity', 'Name', 'Sex', 'Age', 'Injury', 'Fatal (Y/N)', 'Time',\n",
       "       'Species', 'Investigator or Source', 'pdf', 'href formula', 'href',\n",
       "       'Case Number.1', 'Case Number.2', 'original order', 'Unnamed: 22',\n",
       "       'Unnamed: 23'],\n",
       "      dtype='object')"
      ]
     },
     "execution_count": 7,
     "metadata": {},
     "output_type": "execute_result"
    }
   ],
   "source": [
    "# String manipulation to rename columns and correct misspellings.\n",
    "df.rename(columns = {'Sex ': 'Sex','Species ': 'Species'}, inplace = True)\n",
    "df.columns"
   ]
  },
  {
   "cell_type": "code",
   "execution_count": 8,
   "metadata": {
    "scrolled": false
   },
   "outputs": [
    {
     "data": {
      "text/html": [
       "<div>\n",
       "<style scoped>\n",
       "    .dataframe tbody tr th:only-of-type {\n",
       "        vertical-align: middle;\n",
       "    }\n",
       "\n",
       "    .dataframe tbody tr th {\n",
       "        vertical-align: top;\n",
       "    }\n",
       "\n",
       "    .dataframe thead th {\n",
       "        text-align: right;\n",
       "    }\n",
       "</style>\n",
       "<table border=\"1\" class=\"dataframe\">\n",
       "  <thead>\n",
       "    <tr style=\"text-align: right;\">\n",
       "      <th></th>\n",
       "      <th>Date</th>\n",
       "      <th>Year</th>\n",
       "      <th>Type</th>\n",
       "      <th>Country</th>\n",
       "      <th>Area</th>\n",
       "      <th>Location</th>\n",
       "      <th>Activity</th>\n",
       "      <th>Sex</th>\n",
       "      <th>Age</th>\n",
       "      <th>Injury</th>\n",
       "      <th>Fatal (Y/N)</th>\n",
       "      <th>Time</th>\n",
       "      <th>Species</th>\n",
       "    </tr>\n",
       "  </thead>\n",
       "  <tbody>\n",
       "    <tr>\n",
       "      <th>0</th>\n",
       "      <td>25-Jun-2018</td>\n",
       "      <td>2018.0</td>\n",
       "      <td>Boating</td>\n",
       "      <td>USA</td>\n",
       "      <td>California</td>\n",
       "      <td>Oceanside, San Diego County</td>\n",
       "      <td>Paddling</td>\n",
       "      <td>F</td>\n",
       "      <td>57</td>\n",
       "      <td>No injury to occupant, outrigger canoe and pad...</td>\n",
       "      <td>N</td>\n",
       "      <td>18h00</td>\n",
       "      <td>White shark</td>\n",
       "    </tr>\n",
       "    <tr>\n",
       "      <th>1</th>\n",
       "      <td>18-Jun-2018</td>\n",
       "      <td>2018.0</td>\n",
       "      <td>Unprovoked</td>\n",
       "      <td>USA</td>\n",
       "      <td>Georgia</td>\n",
       "      <td>St. Simon Island, Glynn County</td>\n",
       "      <td>Standing</td>\n",
       "      <td>F</td>\n",
       "      <td>11</td>\n",
       "      <td>Minor injury to left thigh</td>\n",
       "      <td>N</td>\n",
       "      <td>14h00  -15h00</td>\n",
       "      <td>NaN</td>\n",
       "    </tr>\n",
       "    <tr>\n",
       "      <th>2</th>\n",
       "      <td>09-Jun-2018</td>\n",
       "      <td>2018.0</td>\n",
       "      <td>Invalid</td>\n",
       "      <td>USA</td>\n",
       "      <td>Hawaii</td>\n",
       "      <td>Habush, Oahu</td>\n",
       "      <td>Surfing</td>\n",
       "      <td>M</td>\n",
       "      <td>48</td>\n",
       "      <td>Injury to left lower leg from surfboard skeg</td>\n",
       "      <td>N</td>\n",
       "      <td>07h45</td>\n",
       "      <td>NaN</td>\n",
       "    </tr>\n",
       "    <tr>\n",
       "      <th>3</th>\n",
       "      <td>08-Jun-2018</td>\n",
       "      <td>2018.0</td>\n",
       "      <td>Unprovoked</td>\n",
       "      <td>AUSTRALIA</td>\n",
       "      <td>New South Wales</td>\n",
       "      <td>Arrawarra Headland</td>\n",
       "      <td>Surfing</td>\n",
       "      <td>M</td>\n",
       "      <td>NaN</td>\n",
       "      <td>Minor injury to lower leg</td>\n",
       "      <td>N</td>\n",
       "      <td>NaN</td>\n",
       "      <td>2 m shark</td>\n",
       "    </tr>\n",
       "    <tr>\n",
       "      <th>4</th>\n",
       "      <td>04-Jun-2018</td>\n",
       "      <td>2018.0</td>\n",
       "      <td>Provoked</td>\n",
       "      <td>MEXICO</td>\n",
       "      <td>Colima</td>\n",
       "      <td>La Ticla</td>\n",
       "      <td>Free diving</td>\n",
       "      <td>M</td>\n",
       "      <td>NaN</td>\n",
       "      <td>Lacerations to leg &amp; hand shark PROVOKED INCIDENT</td>\n",
       "      <td>N</td>\n",
       "      <td>NaN</td>\n",
       "      <td>Tiger shark, 3m</td>\n",
       "    </tr>\n",
       "    <tr>\n",
       "      <th>...</th>\n",
       "      <td>...</td>\n",
       "      <td>...</td>\n",
       "      <td>...</td>\n",
       "      <td>...</td>\n",
       "      <td>...</td>\n",
       "      <td>...</td>\n",
       "      <td>...</td>\n",
       "      <td>...</td>\n",
       "      <td>...</td>\n",
       "      <td>...</td>\n",
       "      <td>...</td>\n",
       "      <td>...</td>\n",
       "      <td>...</td>\n",
       "    </tr>\n",
       "    <tr>\n",
       "      <th>25718</th>\n",
       "      <td>NaN</td>\n",
       "      <td>NaN</td>\n",
       "      <td>NaN</td>\n",
       "      <td>NaN</td>\n",
       "      <td>NaN</td>\n",
       "      <td>NaN</td>\n",
       "      <td>NaN</td>\n",
       "      <td>NaN</td>\n",
       "      <td>NaN</td>\n",
       "      <td>NaN</td>\n",
       "      <td>NaN</td>\n",
       "      <td>NaN</td>\n",
       "      <td>NaN</td>\n",
       "    </tr>\n",
       "    <tr>\n",
       "      <th>25719</th>\n",
       "      <td>NaN</td>\n",
       "      <td>NaN</td>\n",
       "      <td>NaN</td>\n",
       "      <td>NaN</td>\n",
       "      <td>NaN</td>\n",
       "      <td>NaN</td>\n",
       "      <td>NaN</td>\n",
       "      <td>NaN</td>\n",
       "      <td>NaN</td>\n",
       "      <td>NaN</td>\n",
       "      <td>NaN</td>\n",
       "      <td>NaN</td>\n",
       "      <td>NaN</td>\n",
       "    </tr>\n",
       "    <tr>\n",
       "      <th>25720</th>\n",
       "      <td>NaN</td>\n",
       "      <td>NaN</td>\n",
       "      <td>NaN</td>\n",
       "      <td>NaN</td>\n",
       "      <td>NaN</td>\n",
       "      <td>NaN</td>\n",
       "      <td>NaN</td>\n",
       "      <td>NaN</td>\n",
       "      <td>NaN</td>\n",
       "      <td>NaN</td>\n",
       "      <td>NaN</td>\n",
       "      <td>NaN</td>\n",
       "      <td>NaN</td>\n",
       "    </tr>\n",
       "    <tr>\n",
       "      <th>25721</th>\n",
       "      <td>NaN</td>\n",
       "      <td>NaN</td>\n",
       "      <td>NaN</td>\n",
       "      <td>NaN</td>\n",
       "      <td>NaN</td>\n",
       "      <td>NaN</td>\n",
       "      <td>NaN</td>\n",
       "      <td>NaN</td>\n",
       "      <td>NaN</td>\n",
       "      <td>NaN</td>\n",
       "      <td>NaN</td>\n",
       "      <td>NaN</td>\n",
       "      <td>NaN</td>\n",
       "    </tr>\n",
       "    <tr>\n",
       "      <th>25722</th>\n",
       "      <td>NaN</td>\n",
       "      <td>NaN</td>\n",
       "      <td>NaN</td>\n",
       "      <td>NaN</td>\n",
       "      <td>NaN</td>\n",
       "      <td>NaN</td>\n",
       "      <td>NaN</td>\n",
       "      <td>NaN</td>\n",
       "      <td>NaN</td>\n",
       "      <td>NaN</td>\n",
       "      <td>NaN</td>\n",
       "      <td>NaN</td>\n",
       "      <td>NaN</td>\n",
       "    </tr>\n",
       "  </tbody>\n",
       "</table>\n",
       "<p>25723 rows × 13 columns</p>\n",
       "</div>"
      ],
      "text/plain": [
       "              Date    Year        Type    Country             Area  \\\n",
       "0      25-Jun-2018  2018.0     Boating        USA       California   \n",
       "1      18-Jun-2018  2018.0  Unprovoked        USA          Georgia   \n",
       "2      09-Jun-2018  2018.0     Invalid        USA           Hawaii   \n",
       "3      08-Jun-2018  2018.0  Unprovoked  AUSTRALIA  New South Wales   \n",
       "4      04-Jun-2018  2018.0    Provoked     MEXICO           Colima   \n",
       "...            ...     ...         ...        ...              ...   \n",
       "25718          NaN     NaN         NaN        NaN              NaN   \n",
       "25719          NaN     NaN         NaN        NaN              NaN   \n",
       "25720          NaN     NaN         NaN        NaN              NaN   \n",
       "25721          NaN     NaN         NaN        NaN              NaN   \n",
       "25722          NaN     NaN         NaN        NaN              NaN   \n",
       "\n",
       "                             Location     Activity  Sex  Age  \\\n",
       "0         Oceanside, San Diego County     Paddling    F   57   \n",
       "1      St. Simon Island, Glynn County     Standing    F   11   \n",
       "2                        Habush, Oahu      Surfing    M   48   \n",
       "3                  Arrawarra Headland      Surfing    M  NaN   \n",
       "4                            La Ticla  Free diving    M  NaN   \n",
       "...                               ...          ...  ...  ...   \n",
       "25718                             NaN          NaN  NaN  NaN   \n",
       "25719                             NaN          NaN  NaN  NaN   \n",
       "25720                             NaN          NaN  NaN  NaN   \n",
       "25721                             NaN          NaN  NaN  NaN   \n",
       "25722                             NaN          NaN  NaN  NaN   \n",
       "\n",
       "                                                  Injury Fatal (Y/N)  \\\n",
       "0      No injury to occupant, outrigger canoe and pad...           N   \n",
       "1                             Minor injury to left thigh           N   \n",
       "2           Injury to left lower leg from surfboard skeg           N   \n",
       "3                              Minor injury to lower leg           N   \n",
       "4      Lacerations to leg & hand shark PROVOKED INCIDENT           N   \n",
       "...                                                  ...         ...   \n",
       "25718                                                NaN         NaN   \n",
       "25719                                                NaN         NaN   \n",
       "25720                                                NaN         NaN   \n",
       "25721                                                NaN         NaN   \n",
       "25722                                                NaN         NaN   \n",
       "\n",
       "                Time          Species  \n",
       "0              18h00      White shark  \n",
       "1      14h00  -15h00              NaN  \n",
       "2              07h45              NaN  \n",
       "3                NaN        2 m shark  \n",
       "4                NaN  Tiger shark, 3m  \n",
       "...              ...              ...  \n",
       "25718            NaN              NaN  \n",
       "25719            NaN              NaN  \n",
       "25720            NaN              NaN  \n",
       "25721            NaN              NaN  \n",
       "25722            NaN              NaN  \n",
       "\n",
       "[25723 rows x 13 columns]"
      ]
     },
     "execution_count": 8,
     "metadata": {},
     "output_type": "execute_result"
    }
   ],
   "source": [
    "# Drop repeated columns that do not bring any new information.\n",
    "\n",
    "#Elimino 'Case Number', 'Case Number.1' y 'Case Number.2' porque contienen la misma info que podemos encontrar en 'Date'\n",
    "#Elimino 'Investigator or source', 'href formula', 'href' y 'original order' porque no considero que su contenido aporte información para mi análisis.\n",
    "#Elimino 'pdf' ya que sus valores son los nombres de los archivos pero no puedo acceder a ellos.\n",
    "#Elimino las columnas 'Unnamed:22' y 'Unnamed:23' porque sus valores son 'Nan'.\n",
    "clean_data = df.drop(columns=['Case Number','Name','Investigator or Source','pdf','href formula','href','Case Number.1', 'Case Number.2', 'original order', 'Unnamed: 22','Unnamed: 23'])\n",
    "clean_data"
   ]
  },
  {
   "cell_type": "code",
   "execution_count": 9,
   "metadata": {},
   "outputs": [],
   "source": [
    "# Drop NaN values\n",
    "\n",
    "clean_data.dropna(thresh=3, inplace = True) #Si una fila contiene almenos 3 valores, se queda. Nos deshacemos de las filas que contienen solamente 1 o 2 valores, por aportar poca información."
   ]
  },
  {
   "cell_type": "code",
   "execution_count": 10,
   "metadata": {
    "scrolled": true
   },
   "outputs": [
    {
     "name": "stdout",
     "output_type": "stream",
     "text": [
      "Date              0\n",
      "Year              2\n",
      "Type              4\n",
      "Country          50\n",
      "Area            455\n",
      "Location        540\n",
      "Activity        544\n",
      "Sex             565\n",
      "Age            2831\n",
      "Injury           28\n",
      "Fatal (Y/N)     539\n",
      "Time           3354\n",
      "Species        2838\n",
      "dtype: int64\n"
     ]
    }
   ],
   "source": [
    "print(clean_data.isnull().sum()) #to find out how many cells are null/empty on each column on this dataframe."
   ]
  },
  {
   "cell_type": "code",
   "execution_count": 11,
   "metadata": {},
   "outputs": [
    {
     "data": {
      "text/plain": [
       "Date           object\n",
       "Year            int64\n",
       "Type           object\n",
       "Country        object\n",
       "Area           object\n",
       "Location       object\n",
       "Activity       object\n",
       "Sex            object\n",
       "Age            object\n",
       "Injury         object\n",
       "Fatal (Y/N)    object\n",
       "Time           object\n",
       "Species        object\n",
       "dtype: object"
      ]
     },
     "metadata": {},
     "output_type": "display_data"
    }
   ],
   "source": [
    "# Change Year column type, from Float to Integer.\n",
    "clean_data['Year'].fillna(0,inplace=True)\n",
    "clean_data['Year'] = clean_data['Year'].astype(int) \n",
    "display(clean_data.dtypes)"
   ]
  },
  {
   "cell_type": "code",
   "execution_count": 12,
   "metadata": {},
   "outputs": [
    {
     "data": {
      "text/plain": [
       "2015    143\n",
       "2017    136\n",
       "2016    130\n",
       "2011    128\n",
       "0       127\n",
       "       ... \n",
       "1786      1\n",
       "1758      1\n",
       "1742      1\n",
       "1738      1\n",
       "1554      1\n",
       "Name: Year, Length: 249, dtype: int64"
      ]
     },
     "execution_count": 12,
     "metadata": {},
     "output_type": "execute_result"
    }
   ],
   "source": [
    "clean_data[\"Year\"].value_counts()"
   ]
  },
  {
   "cell_type": "code",
   "execution_count": 13,
   "metadata": {},
   "outputs": [
    {
     "data": {
      "text/plain": [
       "count    6302.000000\n",
       "mean     1926.660743\n",
       "std       283.160558\n",
       "min         0.000000\n",
       "25%      1942.000000\n",
       "50%      1977.000000\n",
       "75%      2005.000000\n",
       "max      2018.000000\n",
       "Name: Year, dtype: float64"
      ]
     },
     "execution_count": 13,
     "metadata": {},
     "output_type": "execute_result"
    }
   ],
   "source": [
    "clean_data[\"Year\"].describe() \n",
    "#Para hacer un análisis estadístico de los años de los ataques registrados"
   ]
  },
  {
   "cell_type": "code",
   "execution_count": 14,
   "metadata": {},
   "outputs": [
    {
     "data": {
      "text/plain": [
       "count    4033.000000\n",
       "mean     1994.787007\n",
       "std        17.960343\n",
       "min      1960.000000\n",
       "25%      1981.000000\n",
       "50%      2000.000000\n",
       "75%      2010.000000\n",
       "max      2018.000000\n",
       "Name: Year, dtype: float64"
      ]
     },
     "execution_count": 14,
     "metadata": {},
     "output_type": "execute_result"
    }
   ],
   "source": [
    "# We will keep rows from 1960 til 2018, and will drop the rest.\n",
    "\n",
    "clean_data = clean_data.drop(clean_data[clean_data[\"Year\"]<1960].index)\n",
    "clean_data[\"Year\"].describe() "
   ]
  },
  {
   "cell_type": "code",
   "execution_count": 15,
   "metadata": {},
   "outputs": [
    {
     "data": {
      "text/plain": [
       "USA                               1756\n",
       "AUSTRALIA                          704\n",
       "SOUTH AFRICA                       432\n",
       "BRAZIL                             103\n",
       "BAHAMAS                             91\n",
       "                                  ... \n",
       "INDIA                                1\n",
       "KIRIBATI                             1\n",
       "NIGERIA                              1\n",
       "NORWAY                               1\n",
       "FEDERATED STATES OF MICRONESIA       1\n",
       "Name: Country, Length: 138, dtype: int64"
      ]
     },
     "execution_count": 15,
     "metadata": {},
     "output_type": "execute_result"
    }
   ],
   "source": [
    "clean_data[\"Country\"].value_counts() #investigo las columnas para conseguir información relevante"
   ]
  },
  {
   "cell_type": "code",
   "execution_count": 16,
   "metadata": {
    "scrolled": false
   },
   "outputs": [
    {
     "data": {
      "text/plain": [
       "Unprovoked      3037\n",
       "Provoked         367\n",
       "Invalid          343\n",
       "Boat             111\n",
       "Boating           92\n",
       "Sea Disaster      78\n",
       "Questionable       2\n",
       "Boatomg            1\n",
       "Name: Type, dtype: int64"
      ]
     },
     "execution_count": 16,
     "metadata": {},
     "output_type": "execute_result"
    }
   ],
   "source": [
    "# Regex in columns where there are \"few\" unique values (such as 'Type', 'Sex','Fatal (Y/N)', Activity,)\n",
    "clean_data[\"Type\"].value_counts() "
   ]
  },
  {
   "cell_type": "code",
   "execution_count": 17,
   "metadata": {},
   "outputs": [
    {
     "data": {
      "text/plain": [
       "Unprovoked      3037\n",
       "Provoked         367\n",
       "Invalid          343\n",
       "Boating          204\n",
       "Sea Disaster      78\n",
       "Questionable       2\n",
       "Name: Type, dtype: int64"
      ]
     },
     "execution_count": 17,
     "metadata": {},
     "output_type": "execute_result"
    }
   ],
   "source": [
    "clean_data[\"Type\"]=clean_data[\"Type\"].replace(\"Boat\", \"Boating\")\n",
    "clean_data[\"Type\"]=clean_data[\"Type\"].replace(\"Boatomg\", \"Boating\")\n",
    "\n",
    "clean_data[\"Type\"].value_counts() \n",
    "# another solution:\n",
    "# clean_data['Type']=np.where(clean_data['Type'].str.startswith('Bo'),\"Boating\", clean_data['Type'])"
   ]
  },
  {
   "cell_type": "code",
   "execution_count": 18,
   "metadata": {},
   "outputs": [
    {
     "data": {
      "text/plain": [
       "array(['F', 'M', nan, 'M ', 'lli'], dtype=object)"
      ]
     },
     "execution_count": 18,
     "metadata": {},
     "output_type": "execute_result"
    }
   ],
   "source": [
    "# Regex in columns where there are \"few\" unique values (such as 'Type', 'Sex','Fatal (Y/N)', Activity,)\n",
    "clean_data[\"Sex\"].unique()"
   ]
  },
  {
   "cell_type": "code",
   "execution_count": 19,
   "metadata": {},
   "outputs": [
    {
     "data": {
      "text/plain": [
       "M      3182\n",
       "F       515\n",
       "lli       1\n",
       "Name: Sex, dtype: int64"
      ]
     },
     "execution_count": 19,
     "metadata": {},
     "output_type": "execute_result"
    }
   ],
   "source": [
    "# Regex in columns where there are \"few\" unique values (such as 'Type', 'Sex','Fatal (Y/N)', Activity,)\n",
    "clean_data[\"Sex\"]=clean_data[\"Sex\"].replace(\"M \", \"M\")\n",
    "clean_data[\"Sex\"].value_counts() "
   ]
  },
  {
   "cell_type": "code",
   "execution_count": 20,
   "metadata": {},
   "outputs": [
    {
     "data": {
      "text/plain": [
       "array(['N', 'Y', nan, 'M', 'UNKNOWN', '2017', ' N'], dtype=object)"
      ]
     },
     "execution_count": 20,
     "metadata": {},
     "output_type": "execute_result"
    }
   ],
   "source": [
    "# Regex in columns where there are \"few\" unique values (such as 'Type', 'Sex','Fatal (Y/N)', Activity,)\n",
    "clean_data[\"Fatal (Y/N)\"].unique() #"
   ]
  },
  {
   "cell_type": "code",
   "execution_count": 21,
   "metadata": {},
   "outputs": [
    {
     "data": {
      "text/plain": [
       "array(['N', 'Y', 'UNKNOWN'], dtype=object)"
      ]
     },
     "execution_count": 21,
     "metadata": {},
     "output_type": "execute_result"
    }
   ],
   "source": [
    "# Regex in columns where there are \"few\" unique values (such as 'Type', 'Sex','Fatal (Y/N)', Activity,)\n",
    "clean_data[\"Fatal (Y/N)\"]=clean_data[\"Fatal (Y/N)\"].str.replace('M', 'N')\n",
    "clean_data[\"Fatal (Y/N)\"]=clean_data[\"Fatal (Y/N)\"].str.replace(' N', 'N')\n",
    "clean_data[\"Fatal (Y/N)\"]=clean_data[\"Fatal (Y/N)\"].str.replace('2017', 'UNKNOWN')\n",
    "\n",
    "# fill nan values with UNKNOWN\n",
    "clean_data['Fatal (Y/N)'].fillna('UNKNOWN',inplace=True)\n",
    "\n",
    "clean_data[\"Fatal (Y/N)\"].unique() #\n",
    "\n",
    "# OPTIONAL: To remove any value called \"2017\" within the \"Fatal Y/N\" Column.\n",
    "#clean_data = clean_data[clean_data[\"Fatal (Y/N)\"] != \"2017\"] "
   ]
  },
  {
   "cell_type": "code",
   "execution_count": 22,
   "metadata": {
    "scrolled": true
   },
   "outputs": [
    {
     "data": {
      "text/plain": [
       "Jul        432\n",
       "Aug        411\n",
       "Sep        400\n",
       "Jun        361\n",
       "Apr        328\n",
       "Jan        328\n",
       "Oct        327\n",
       "Mar        276\n",
       "May        275\n",
       "Dec        270\n",
       "Nov        261\n",
       "Feb        256\n",
       "UNKNOWN    108\n",
       "Name: Date, dtype: int64"
      ]
     },
     "execution_count": 22,
     "metadata": {},
     "output_type": "execute_result"
    }
   ],
   "source": [
    "# String manipulation to rename values within 'Date' column. We would need to do regex to remove the day and year and keep only the month, so we can do some analysis in this area.\n",
    "clean_data[\"Date\"]=clean_data[\"Date\"].str.replace('\\d+', '', regex=True) # set up as true because we want to replace any digits with an empty string.\n",
    "clean_data[\"Date\"]=clean_data[\"Date\"].str.replace('-', '')\n",
    "clean_data[\"Date\"]=clean_data[\"Date\"].str.replace(' ', '')\n",
    "clean_data[\"Date\"]=clean_data[\"Date\"].str.replace('\"', '')\n",
    "clean_data[\"Date\"]=clean_data[\"Date\"].str.replace('Jultohavehappenedontheweekend', '')\n",
    "clean_data[\"Date\"]=clean_data[\"Date\"].str.replace('LastincidentofinHongKong', '')\n",
    "clean_data[\"Date\"]=clean_data[\"Date\"].str.replace('Early', '')\n",
    "clean_data[\"Date\"]=clean_data[\"Date\"].str.replace('Summer', '')\n",
    "clean_data[\"Date\"]=clean_data[\"Date\"].str.replace('summer', '')\n",
    "clean_data[\"Date\"]=clean_data[\"Date\"].str.replace('Mid', '')\n",
    "clean_data[\"Date\"]=clean_data[\"Date\"].str.replace('Reported', '')\n",
    "clean_data[\"Date\"]=clean_data[\"Date\"].str.replace('Late', '')\n",
    "clean_data[\"Date\"]=clean_data[\"Date\"].str.replace('June', 'Jun')\n",
    "clean_data[\"Date\"]=clean_data[\"Date\"].str.replace('orMay', 'May')\n",
    "clean_data[\"Date\"]=clean_data[\"Date\"].str.replace('December', 'Dec')\n",
    "clean_data[\"Date\"]=clean_data[\"Date\"].str.replace('`', '')\n",
    "clean_data[\"Date\"]=clean_data[\"Date\"].str.replace('November', 'Nov')\n",
    "clean_data[\"Date\"]=clean_data[\"Date\"].str.replace('.', '', regex=False) #we only want to replace that specific character(dot)\n",
    "clean_data[\"Date\"]=clean_data[\"Date\"].str.replace('July', 'Jul')\n",
    "clean_data[\"Date\"]=clean_data[\"Date\"].str.replace('Jula', 'Jul')\n",
    "clean_data[\"Date\"]=clean_data[\"Date\"].str.replace('Julb', 'Jul')\n",
    "clean_data[\"Date\"]=clean_data[\"Date\"].str.replace('s', '')\n",
    "clean_data[\"Date\"]=clean_data[\"Date\"].str.replace('Ca', '')\n",
    "clean_data[\"Date\"]=clean_data[\"Date\"].str.replace('MayJun', '')\n",
    "clean_data[\"Date\"]=clean_data[\"Date\"].str.replace('Fall', '')\n",
    "clean_data[\"Date\"]=clean_data[\"Date\"].str.replace('of', '')\n",
    "clean_data[\"Date\"]=clean_data[\"Date\"].str.replace('JulormidJul', '')\n",
    "clean_data[\"Date\"]=clean_data[\"Date\"].str.replace('Winter', '')\n",
    "clean_data[\"Date\"]=clean_data[\"Date\"].str.replace('JanJun', '')\n",
    "clean_data[\"Date\"]=clean_data[\"Date\"].str.replace('BetweenMay&Nov', '')\n",
    "clean_data[\"Date\"]=clean_data[\"Date\"].str.replace(r'\\bAp\\b', 'Apr', regex=True)\n",
    "clean_data[\"Date\"]=clean_data[\"Date\"].str.replace('Jultohavehappenedontheweekend', '')\n",
    "clean_data[\"Date\"]=clean_data[\"Date\"].str.replace(r'^\\s*$', 'UNKNOWN', regex=True) # to replace an empty string with UNKNOWN.\n",
    "\n",
    "clean_data[\"Date\"].value_counts()"
   ]
  },
  {
   "cell_type": "code",
   "execution_count": 23,
   "metadata": {},
   "outputs": [],
   "source": [
    "# String manipulation to rename \"Date\" column.\n",
    "clean_data.rename(columns={'Date':'Month'}, inplace = True)"
   ]
  },
  {
   "cell_type": "code",
   "execution_count": 24,
   "metadata": {},
   "outputs": [
    {
     "data": {
      "text/plain": [
       "array(['Jun', 'May', 'Apr', 'Mar', 'Feb', 'Jan', 'Dec', 'Nov', 'Oct',\n",
       "       'Sep', 'Aug', 'Jul', 'UNKNOWN'], dtype=object)"
      ]
     },
     "execution_count": 24,
     "metadata": {},
     "output_type": "execute_result"
    }
   ],
   "source": [
    "clean_data[\"Month\"].unique()"
   ]
  },
  {
   "cell_type": "code",
   "execution_count": 25,
   "metadata": {
    "scrolled": false
   },
   "outputs": [
    {
     "data": {
      "text/plain": [
       "Surfing                                      958\n",
       "Swimming                                     495\n",
       "Spearfishing                                 283\n",
       "Fishing                                      220\n",
       "Wading                                       124\n",
       "                                            ... \n",
       "Diving into water                              1\n",
       "Swimming or paddle boarding                    1\n",
       "Floating on his back in an inner tube          1\n",
       "Catching sharks under government contract      1\n",
       "Fishing from surfski                           1\n",
       "Name: Activity, Length: 810, dtype: int64"
      ]
     },
     "execution_count": 25,
     "metadata": {},
     "output_type": "execute_result"
    }
   ],
   "source": [
    "clean_data[\"Activity\"].value_counts()"
   ]
  },
  {
   "cell_type": "code",
   "execution_count": null,
   "metadata": {},
   "outputs": [],
   "source": []
  },
  {
   "cell_type": "code",
   "execution_count": 26,
   "metadata": {},
   "outputs": [],
   "source": [
    "#para agrupar actividades similares a fishing (spearfishing, etc)\n",
    "clean_data[\"Activity\"].replace(to_replace = \n",
    "r'[a-zA-Z]*\\s*fishing\\s*[a-zA-Z]*', \n",
    "value = \"Fishing\", inplace = True, regex = True)\n",
    "\n",
    "# ANOTHER OPTION?\n",
    "#clean_data[\"Activity\"] = clean_data[\"Activity\"].replace(r'[a-zA-Z]*\\s*fishing\\s*[a-zA-Z]*', 'Fishing')"
   ]
  },
  {
   "cell_type": "code",
   "execution_count": 27,
   "metadata": {},
   "outputs": [],
   "source": [
    "#para agrupar actividades similares a surfing (kite surfing, windsurfing, etc)\n",
    "clean_data[\"Activity\"].replace(to_replace = \n",
    "r'[a-zA-Z]*\\s*surfing\\s*[a-zA-Z]*', \n",
    "value = \"Surfing\", inplace = True, regex = True)\n"
   ]
  },
  {
   "cell_type": "code",
   "execution_count": 28,
   "metadata": {},
   "outputs": [
    {
     "data": {
      "text/plain": [
       "array(['N', 'Y', 'UNKNOWN'], dtype=object)"
      ]
     },
     "execution_count": 28,
     "metadata": {},
     "output_type": "execute_result"
    }
   ],
   "source": [
    "clean_data[\"Fatal (Y/N)\"]=clean_data[\"Fatal (Y/N)\"].str.replace('nan', 'UNKNOWN')\n",
    "clean_data[\"Fatal (Y/N)\"].unique() #"
   ]
  },
  {
   "cell_type": "code",
   "execution_count": 29,
   "metadata": {},
   "outputs": [
    {
     "data": {
      "text/plain": [
       "Surfing                                                             1019\n",
       "Fishing                                                              545\n",
       "Swimming                                                             495\n",
       "Wading                                                               124\n",
       "Snorkeling                                                            88\n",
       "                                                                    ... \n",
       "Jumping in the waves                                                   1\n",
       "Petting a shark                                                        1\n",
       "Fishing with hand line tied to wrist & was pulled into the water       1\n",
       "Adrift after ditching plane in the sea                                 1\n",
       "Scuba diving / culling lionfish                                        1\n",
       "Name: Activity, Length: 781, dtype: int64"
      ]
     },
     "execution_count": 29,
     "metadata": {},
     "output_type": "execute_result"
    }
   ],
   "source": [
    "clean_data[\"Activity\"].value_counts() "
   ]
  },
  {
   "cell_type": "code",
   "execution_count": 30,
   "metadata": {},
   "outputs": [
    {
     "data": {
      "text/html": [
       "<div>\n",
       "<style scoped>\n",
       "    .dataframe tbody tr th:only-of-type {\n",
       "        vertical-align: middle;\n",
       "    }\n",
       "\n",
       "    .dataframe tbody tr th {\n",
       "        vertical-align: top;\n",
       "    }\n",
       "\n",
       "    .dataframe thead th {\n",
       "        text-align: right;\n",
       "    }\n",
       "</style>\n",
       "<table border=\"1\" class=\"dataframe\">\n",
       "  <thead>\n",
       "    <tr style=\"text-align: right;\">\n",
       "      <th></th>\n",
       "      <th>Month</th>\n",
       "      <th>Year</th>\n",
       "      <th>Type</th>\n",
       "      <th>Country</th>\n",
       "      <th>Area</th>\n",
       "      <th>Location</th>\n",
       "      <th>Activity</th>\n",
       "      <th>Sex</th>\n",
       "      <th>Age</th>\n",
       "      <th>Injury</th>\n",
       "      <th>Fatal (Y/N)</th>\n",
       "      <th>Time</th>\n",
       "      <th>Species</th>\n",
       "    </tr>\n",
       "  </thead>\n",
       "  <tbody>\n",
       "    <tr>\n",
       "      <th>0</th>\n",
       "      <td>Jun</td>\n",
       "      <td>2018</td>\n",
       "      <td>Boating</td>\n",
       "      <td>USA</td>\n",
       "      <td>California</td>\n",
       "      <td>Oceanside, San Diego County</td>\n",
       "      <td>Paddling</td>\n",
       "      <td>F</td>\n",
       "      <td>57</td>\n",
       "      <td>No injury to occupant, outrigger canoe and pad...</td>\n",
       "      <td>N</td>\n",
       "      <td>18h00</td>\n",
       "      <td>White shark</td>\n",
       "    </tr>\n",
       "    <tr>\n",
       "      <th>1</th>\n",
       "      <td>Jun</td>\n",
       "      <td>2018</td>\n",
       "      <td>Unprovoked</td>\n",
       "      <td>USA</td>\n",
       "      <td>Georgia</td>\n",
       "      <td>St. Simon Island, Glynn County</td>\n",
       "      <td>Standing</td>\n",
       "      <td>F</td>\n",
       "      <td>11</td>\n",
       "      <td>Minor injury to left thigh</td>\n",
       "      <td>N</td>\n",
       "      <td>14h00  -15h00</td>\n",
       "      <td>NaN</td>\n",
       "    </tr>\n",
       "    <tr>\n",
       "      <th>2</th>\n",
       "      <td>Jun</td>\n",
       "      <td>2018</td>\n",
       "      <td>Invalid</td>\n",
       "      <td>USA</td>\n",
       "      <td>Hawaii</td>\n",
       "      <td>Habush, Oahu</td>\n",
       "      <td>Surfing</td>\n",
       "      <td>M</td>\n",
       "      <td>48</td>\n",
       "      <td>Injury to left lower leg from surfboard skeg</td>\n",
       "      <td>N</td>\n",
       "      <td>07h45</td>\n",
       "      <td>NaN</td>\n",
       "    </tr>\n",
       "    <tr>\n",
       "      <th>3</th>\n",
       "      <td>Jun</td>\n",
       "      <td>2018</td>\n",
       "      <td>Unprovoked</td>\n",
       "      <td>AUSTRALIA</td>\n",
       "      <td>New South Wales</td>\n",
       "      <td>Arrawarra Headland</td>\n",
       "      <td>Surfing</td>\n",
       "      <td>M</td>\n",
       "      <td>NaN</td>\n",
       "      <td>Minor injury to lower leg</td>\n",
       "      <td>N</td>\n",
       "      <td>NaN</td>\n",
       "      <td>2 m shark</td>\n",
       "    </tr>\n",
       "    <tr>\n",
       "      <th>4</th>\n",
       "      <td>Jun</td>\n",
       "      <td>2018</td>\n",
       "      <td>Provoked</td>\n",
       "      <td>MEXICO</td>\n",
       "      <td>Colima</td>\n",
       "      <td>La Ticla</td>\n",
       "      <td>Free diving</td>\n",
       "      <td>M</td>\n",
       "      <td>NaN</td>\n",
       "      <td>Lacerations to leg &amp; hand shark PROVOKED INCIDENT</td>\n",
       "      <td>N</td>\n",
       "      <td>NaN</td>\n",
       "      <td>Tiger shark, 3m</td>\n",
       "    </tr>\n",
       "    <tr>\n",
       "      <th>...</th>\n",
       "      <td>...</td>\n",
       "      <td>...</td>\n",
       "      <td>...</td>\n",
       "      <td>...</td>\n",
       "      <td>...</td>\n",
       "      <td>...</td>\n",
       "      <td>...</td>\n",
       "      <td>...</td>\n",
       "      <td>...</td>\n",
       "      <td>...</td>\n",
       "      <td>...</td>\n",
       "      <td>...</td>\n",
       "      <td>...</td>\n",
       "    </tr>\n",
       "    <tr>\n",
       "      <th>4029</th>\n",
       "      <td>UNKNOWN</td>\n",
       "      <td>1960</td>\n",
       "      <td>Unprovoked</td>\n",
       "      <td>FIJI</td>\n",
       "      <td>Northwest of Viti Levu</td>\n",
       "      <td>Covull Reef, near Lautoka</td>\n",
       "      <td>Fishing</td>\n",
       "      <td>M</td>\n",
       "      <td>NaN</td>\n",
       "      <td>Right arm abraded, circular piece of tissue re...</td>\n",
       "      <td>N</td>\n",
       "      <td>NaN</td>\n",
       "      <td>NaN</td>\n",
       "    </tr>\n",
       "    <tr>\n",
       "      <th>4030</th>\n",
       "      <td>UNKNOWN</td>\n",
       "      <td>1960</td>\n",
       "      <td>Unprovoked</td>\n",
       "      <td>PAPUA NEW GUINEA</td>\n",
       "      <td>Madang</td>\n",
       "      <td>NaN</td>\n",
       "      <td>Fishing, removing fish from spear</td>\n",
       "      <td>M</td>\n",
       "      <td>16</td>\n",
       "      <td>FATAL, foot severed, hip bitten</td>\n",
       "      <td>Y</td>\n",
       "      <td>NaN</td>\n",
       "      <td>NaN</td>\n",
       "    </tr>\n",
       "    <tr>\n",
       "      <th>4031</th>\n",
       "      <td>UNKNOWN</td>\n",
       "      <td>1960</td>\n",
       "      <td>Unprovoked</td>\n",
       "      <td>PAPUA NEW GUINEA</td>\n",
       "      <td>West New Britain Province</td>\n",
       "      <td>West Nakanai,  Talasea</td>\n",
       "      <td>Fishing</td>\n",
       "      <td>M</td>\n",
       "      <td>20</td>\n",
       "      <td>Slight lacerations to leg</td>\n",
       "      <td>N</td>\n",
       "      <td>NaN</td>\n",
       "      <td>NaN</td>\n",
       "    </tr>\n",
       "    <tr>\n",
       "      <th>4032</th>\n",
       "      <td>UNKNOWN</td>\n",
       "      <td>1960</td>\n",
       "      <td>Unprovoked</td>\n",
       "      <td>MOZAMBIQUE</td>\n",
       "      <td>Gaza</td>\n",
       "      <td>Xai Xai</td>\n",
       "      <td>Swimming</td>\n",
       "      <td>F</td>\n",
       "      <td>5</td>\n",
       "      <td>FATAL</td>\n",
       "      <td>Y</td>\n",
       "      <td>NaN</td>\n",
       "      <td>NaN</td>\n",
       "    </tr>\n",
       "    <tr>\n",
       "      <th>4033</th>\n",
       "      <td>UNKNOWN</td>\n",
       "      <td>1960</td>\n",
       "      <td>Unprovoked</td>\n",
       "      <td>SOUTH AFRICA</td>\n",
       "      <td>Eastern Cape Province</td>\n",
       "      <td>Kei River Mouth</td>\n",
       "      <td>Wading</td>\n",
       "      <td>F</td>\n",
       "      <td>NaN</td>\n",
       "      <td>Heel lacerated, hand lacerated &amp; abraded</td>\n",
       "      <td>N</td>\n",
       "      <td>11h00</td>\n",
       "      <td>2.1 m [7'] shark</td>\n",
       "    </tr>\n",
       "  </tbody>\n",
       "</table>\n",
       "<p>4033 rows × 13 columns</p>\n",
       "</div>"
      ],
      "text/plain": [
       "        Month  Year        Type           Country                       Area  \\\n",
       "0         Jun  2018     Boating               USA                 California   \n",
       "1         Jun  2018  Unprovoked               USA                    Georgia   \n",
       "2         Jun  2018     Invalid               USA                     Hawaii   \n",
       "3         Jun  2018  Unprovoked         AUSTRALIA            New South Wales   \n",
       "4         Jun  2018    Provoked            MEXICO                     Colima   \n",
       "...       ...   ...         ...               ...                        ...   \n",
       "4029  UNKNOWN  1960  Unprovoked              FIJI     Northwest of Viti Levu   \n",
       "4030  UNKNOWN  1960  Unprovoked  PAPUA NEW GUINEA                     Madang   \n",
       "4031  UNKNOWN  1960  Unprovoked  PAPUA NEW GUINEA  West New Britain Province   \n",
       "4032  UNKNOWN  1960  Unprovoked        MOZAMBIQUE                       Gaza   \n",
       "4033  UNKNOWN  1960  Unprovoked      SOUTH AFRICA      Eastern Cape Province   \n",
       "\n",
       "                            Location                           Activity Sex  \\\n",
       "0        Oceanside, San Diego County                           Paddling   F   \n",
       "1     St. Simon Island, Glynn County                           Standing   F   \n",
       "2                       Habush, Oahu                            Surfing   M   \n",
       "3                 Arrawarra Headland                            Surfing   M   \n",
       "4                           La Ticla                        Free diving   M   \n",
       "...                              ...                                ...  ..   \n",
       "4029       Covull Reef, near Lautoka                            Fishing   M   \n",
       "4030                             NaN  Fishing, removing fish from spear   M   \n",
       "4031          West Nakanai,  Talasea                            Fishing   M   \n",
       "4032                         Xai Xai                           Swimming   F   \n",
       "4033                 Kei River Mouth                             Wading   F   \n",
       "\n",
       "      Age                                             Injury Fatal (Y/N)  \\\n",
       "0      57  No injury to occupant, outrigger canoe and pad...           N   \n",
       "1      11                         Minor injury to left thigh           N   \n",
       "2      48       Injury to left lower leg from surfboard skeg           N   \n",
       "3     NaN                          Minor injury to lower leg           N   \n",
       "4     NaN  Lacerations to leg & hand shark PROVOKED INCIDENT           N   \n",
       "...   ...                                                ...         ...   \n",
       "4029  NaN  Right arm abraded, circular piece of tissue re...           N   \n",
       "4030   16                    FATAL, foot severed, hip bitten           Y   \n",
       "4031   20                          Slight lacerations to leg           N   \n",
       "4032    5                                              FATAL           Y   \n",
       "4033  NaN           Heel lacerated, hand lacerated & abraded           N   \n",
       "\n",
       "               Time           Species  \n",
       "0             18h00       White shark  \n",
       "1     14h00  -15h00               NaN  \n",
       "2             07h45               NaN  \n",
       "3               NaN         2 m shark  \n",
       "4               NaN   Tiger shark, 3m  \n",
       "...             ...               ...  \n",
       "4029            NaN               NaN  \n",
       "4030            NaN               NaN  \n",
       "4031            NaN               NaN  \n",
       "4032            NaN               NaN  \n",
       "4033          11h00  2.1 m [7'] shark  \n",
       "\n",
       "[4033 rows x 13 columns]"
      ]
     },
     "execution_count": 30,
     "metadata": {},
     "output_type": "execute_result"
    }
   ],
   "source": [
    "clean_data"
   ]
  },
  {
   "cell_type": "code",
   "execution_count": 31,
   "metadata": {},
   "outputs": [],
   "source": [
    "# We save the final dataset that we will use to do the analysis.\n",
    "clean_data.to_csv('output/clean_data.csv')\n"
   ]
  },
  {
   "cell_type": "code",
   "execution_count": null,
   "metadata": {},
   "outputs": [],
   "source": []
  }
 ],
 "metadata": {
  "kernelspec": {
   "display_name": "Python 3",
   "language": "python",
   "name": "python3"
  },
  "language_info": {
   "codemirror_mode": {
    "name": "ipython",
    "version": 3
   },
   "file_extension": ".py",
   "mimetype": "text/x-python",
   "name": "python",
   "nbconvert_exporter": "python",
   "pygments_lexer": "ipython3",
   "version": "3.9.2"
  }
 },
 "nbformat": 4,
 "nbformat_minor": 4
}
